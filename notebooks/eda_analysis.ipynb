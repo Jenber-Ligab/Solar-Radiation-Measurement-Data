{
 "cells": [
  {
   "cell_type": "code",
   "execution_count": 26,
   "metadata": {},
   "outputs": [
    {
     "data": {
      "text/plain": [
       "<contextlib.ExitStack at 0x1dada3e25d0>"
      ]
     },
     "execution_count": 26,
     "metadata": {},
     "output_type": "execute_result"
    }
   ],
   "source": [
    "import os\n",
    "import pandas as pd\n",
    "import numpy as np\n",
    "import matplotlib.pyplot as plt\n",
    "import seaborn as sns\n",
    "from scipy.stats import zscore\n",
    "plt.ion()  "
   ]
  },
  {
   "cell_type": "code",
   "execution_count": 5,
   "metadata": {},
   "outputs": [],
   "source": [
    "# Set folder paths\n",
    "base_dir = \"Solar-Radiation-Measurement-Data\"\n",
    "data_dir = os.path.join(base_dir, \"data\")\n",
    "raw_data_dir = os.path.join(base_dir, \"data\", \"raw\")\n",
    "processed_data_dir = os.path.join(data_dir, \"processed\")\n",
    "analysis_dir = os.path.join(base_dir, \"analysis\")\n",
    "plots_dir = os.path.join(analysis_dir, \"plots\")\n",
    "summary_dir = os.path.join(analysis_dir, \"summary\")\n",
    "results_dir = os.path.join(base_dir, \"results\")"
   ]
  },
  {
   "cell_type": "code",
   "execution_count": 6,
   "metadata": {},
   "outputs": [],
   "source": [
    "# Create directories if they don't exist\n",
    "for folder in [data_dir, raw_data_dir, processed_data_dir, analysis_dir, plots_dir, summary_dir, results_dir]:\n",
    "    os.makedirs(folder, exist_ok=True)"
   ]
  },
  {
   "cell_type": "code",
   "execution_count": 8,
   "metadata": {},
   "outputs": [],
   "source": [
    "# Load datasets\n",
    "files = [\"benin-malanville.csv\", \"sierraleone-bumbuna.csv\", \"togo-dapaong_qc.csv\"]\n",
    "datasets = {}\n",
    "for file in files:\n",
    "    file_path = os.path.join(raw_data_dir, file)\n",
    "    datasets[file.split(\".\")[0]] = pd.read_csv(file_path)"
   ]
  },
  {
   "cell_type": "code",
   "execution_count": 9,
   "metadata": {},
   "outputs": [],
   "source": [
    "# Function to save plots\n",
    "\n",
    "def save_plot(fig, filename):\n",
    "    fig.savefig(os.path.join(plots_dir, filename), bbox_inches='tight')\n",
    "    plt.close(fig)"
   ]
  },
  {
   "cell_type": "code",
   "execution_count": 10,
   "metadata": {},
   "outputs": [],
   "source": [
    "# Function for summary statistics\n",
    "def generate_summary_statistics(df, filename):\n",
    "    summary = df.describe().T\n",
    "    summary[\"missing\"] = df.isnull().sum()\n",
    "    summary.to_csv(os.path.join(summary_dir, filename))\n",
    "    return summary"
   ]
  },
  {
   "cell_type": "code",
   "execution_count": 11,
   "metadata": {},
   "outputs": [
    {
     "name": "stdout",
     "output_type": "stream",
     "text": [
      "Processing dataset: benin-malanville\n",
      "                  count        mean         std    min    25%    50%    75%  \\\n",
      "GHI            525600.0  240.559452  331.131327  -12.9   -2.0    1.8  483.4   \n",
      "DNI            525600.0  167.187516  261.710501   -7.8   -0.5   -0.1  314.2   \n",
      "DHI            525600.0  115.358961  158.691074  -12.6   -2.1    1.6  216.3   \n",
      "ModA           525600.0  236.589496  326.894859    0.0    0.0    4.5  463.7   \n",
      "ModB           525600.0  228.883576  316.536515    0.0    0.0    4.3  447.9   \n",
      "Tamb           525600.0   28.179683    5.924297   11.0   24.2   28.0   32.3   \n",
      "RH             525600.0   54.487969   28.073069    2.1   28.8   55.1   80.1   \n",
      "WS             525600.0    2.121113    1.603466    0.0    1.0    1.9    3.1   \n",
      "WSgust         525600.0    2.809195    2.029120    0.0    1.3    2.6    4.1   \n",
      "WSstdev        525600.0    0.473390    0.273395    0.0    0.4    0.5    0.6   \n",
      "WD             525600.0  153.435172  102.332842    0.0   59.0  181.0  235.1   \n",
      "WDstdev        525600.0    8.582407    6.385864    0.0    3.7    8.6   12.3   \n",
      "BP             525600.0  994.197199    2.474993  985.0  993.0  994.0  996.0   \n",
      "Cleaning       525600.0    0.000923    0.030363    0.0    0.0    0.0    0.0   \n",
      "Precipitation  525600.0    0.001905    0.037115    0.0    0.0    0.0    0.0   \n",
      "TModA          525600.0   35.246026   14.807258    9.0   24.2   30.0   46.9   \n",
      "TModB          525600.0   32.471736   12.348743    8.1   23.6   28.9   41.5   \n",
      "Comments            0.0         NaN         NaN    NaN    NaN    NaN    NaN   \n",
      "\n",
      "                  max  missing  \n",
      "GHI            1413.0        0  \n",
      "DNI             952.3        0  \n",
      "DHI             759.2        0  \n",
      "ModA           1342.3        0  \n",
      "ModB           1342.3        0  \n",
      "Tamb             43.8        0  \n",
      "RH              100.0        0  \n",
      "WS               19.5        0  \n",
      "WSgust           26.6        0  \n",
      "WSstdev           4.2        0  \n",
      "WD              360.0        0  \n",
      "WDstdev          99.4        0  \n",
      "BP             1003.0        0  \n",
      "Cleaning          1.0        0  \n",
      "Precipitation     2.5        0  \n",
      "TModA            81.0        0  \n",
      "TModB            72.5        0  \n",
      "Comments          NaN   525600  \n",
      "Processing dataset: sierraleone-bumbuna\n",
      "                  count        mean         std    min    25%     50%     75%  \\\n",
      "GHI            525600.0  201.957515  298.495150  -19.5   -2.8     0.3   362.4   \n",
      "DNI            525600.0  116.376337  218.652659   -7.8   -0.3    -0.1   107.0   \n",
      "DHI            525600.0  113.720571  158.946032  -17.9   -3.8    -0.1   224.7   \n",
      "ModA           525600.0  206.643095  300.896893    0.0    0.0     3.6   359.5   \n",
      "ModB           525600.0  198.114691  288.889073    0.0    0.0     3.4   345.4   \n",
      "Tamb           525600.0   26.319394    4.398605   12.3   23.1    25.3    29.4   \n",
      "RH             525600.0   79.448857   20.520775    9.9   68.7    85.4    96.7   \n",
      "WS             525600.0    1.146113    1.239248    0.0    0.0     0.8     2.0   \n",
      "WSgust         525600.0    1.691606    1.617053    0.0    0.0     1.6     2.6   \n",
      "WSstdev        525600.0    0.363823    0.295000    0.0    0.0     0.4     0.6   \n",
      "WD             525600.0  133.044668  114.284792    0.0    0.0   161.5   234.1   \n",
      "WDstdev        525600.0    7.172220    7.535093    0.0    0.0     6.2    12.0   \n",
      "BP             525600.0  999.876469    2.104419  993.0  999.0  1000.0  1001.0   \n",
      "Cleaning       525600.0    0.000967    0.031074    0.0    0.0     0.0     0.0   \n",
      "Precipitation  525600.0    0.004806    0.047556    0.0    0.0     0.0     0.0   \n",
      "TModA          525600.0   32.504263   12.434899   10.7   23.5    26.6    40.9   \n",
      "TModB          525600.0   32.593091   12.009161   11.1   23.8    26.9    41.3   \n",
      "Comments            0.0         NaN         NaN    NaN    NaN     NaN     NaN   \n",
      "\n",
      "                  max  missing  \n",
      "GHI            1499.0        0  \n",
      "DNI             946.0        0  \n",
      "DHI             892.0        0  \n",
      "ModA           1507.0        0  \n",
      "ModB           1473.0        0  \n",
      "Tamb             39.9        0  \n",
      "RH              100.0        0  \n",
      "WS               19.2        0  \n",
      "WSgust           23.9        0  \n",
      "WSstdev           4.1        0  \n",
      "WD              360.0        0  \n",
      "WDstdev          98.4        0  \n",
      "BP             1006.0        0  \n",
      "Cleaning          1.0        0  \n",
      "Precipitation     2.4        0  \n",
      "TModA            72.8        0  \n",
      "TModB            70.4        0  \n",
      "Comments          NaN   525600  \n",
      "Processing dataset: togo-dapaong_qc\n",
      "                  count        mean         std    min    25%    50%      75%  \\\n",
      "GHI            525600.0  230.555040  322.532347  -12.7   -2.2    2.1  442.400   \n",
      "DNI            525600.0  151.258469  250.956962    0.0    0.0    0.0  246.400   \n",
      "DHI            525600.0  116.444352  156.520714    0.0    0.0    2.5  215.700   \n",
      "ModA           525600.0  226.144375  317.346938    0.0    0.0    4.4  422.525   \n",
      "ModB           525600.0  219.568588  307.932510    0.0    0.0    4.3  411.000   \n",
      "Tamb           525600.0   27.751788    4.758023   14.9   24.2   27.2   31.100   \n",
      "RH             525600.0   55.013160   28.778732    3.3   26.5   59.3   80.800   \n",
      "WS             525600.0    2.368093    1.462668    0.0    1.4    2.2    3.200   \n",
      "WSgust         525600.0    3.229490    1.882565    0.0    1.9    2.9    4.400   \n",
      "WSstdev        525600.0    0.557740    0.268923    0.0    0.4    0.5    0.700   \n",
      "WD             525600.0  161.741845   91.877217    0.0   74.8  199.1  233.500   \n",
      "WDstdev        525600.0   10.559568    5.915490    0.0    6.9   10.8   14.100   \n",
      "BP             525600.0  975.915242    2.153977  968.0  975.0  976.0  977.000   \n",
      "Cleaning       525600.0    0.000535    0.023116    0.0    0.0    0.0    0.000   \n",
      "Precipitation  525600.0    0.001382    0.026350    0.0    0.0    0.0    0.000   \n",
      "TModA          525600.0   32.444403   10.998334   13.1   23.9   28.4   40.600   \n",
      "TModB          525600.0   33.543330   12.769277   13.1   23.6   28.4   43.000   \n",
      "Comments            0.0         NaN         NaN    NaN    NaN    NaN      NaN   \n",
      "\n",
      "                  max  missing  \n",
      "GHI            1424.0        0  \n",
      "DNI            1004.5        0  \n",
      "DHI             805.7        0  \n",
      "ModA           1380.0        0  \n",
      "ModB           1367.0        0  \n",
      "Tamb             41.4        0  \n",
      "RH               99.8        0  \n",
      "WS               16.1        0  \n",
      "WSgust           23.1        0  \n",
      "WSstdev           4.7        0  \n",
      "WD              360.0        0  \n",
      "WDstdev          86.9        0  \n",
      "BP              983.0        0  \n",
      "Cleaning          1.0        0  \n",
      "Precipitation     2.3        0  \n",
      "TModA            70.4        0  \n",
      "TModB            94.6        0  \n",
      "Comments          NaN   525600  \n"
     ]
    }
   ],
   "source": [
    "# Perform EDA on each dataset\n",
    "for name, df in datasets.items():\n",
    "    print(f\"Processing dataset: {name}\")\n",
    "\n",
    "    # Summary statistics\n",
    "    summary = generate_summary_statistics(df, f\"summary_{name}.csv\")\n",
    "    print(summary)"
   ]
  },
  {
   "cell_type": "code",
   "execution_count": 12,
   "metadata": {},
   "outputs": [
    {
     "name": "stdout",
     "output_type": "stream",
     "text": [
      "Checking for missing values...\n",
      "Timestamp             0\n",
      "GHI                   0\n",
      "DNI                   0\n",
      "DHI                   0\n",
      "ModA                  0\n",
      "ModB                  0\n",
      "Tamb                  0\n",
      "RH                    0\n",
      "WS                    0\n",
      "WSgust                0\n",
      "WSstdev               0\n",
      "WD                    0\n",
      "WDstdev               0\n",
      "BP                    0\n",
      "Cleaning              0\n",
      "Precipitation         0\n",
      "TModA                 0\n",
      "TModB                 0\n",
      "Comments         525600\n",
      "dtype: int64\n",
      "Checking for outliers...\n",
      "[0 0 0 0 0 0 0 0 0 0 0 0 0 0 0 0 0 0]\n"
     ]
    }
   ],
   "source": [
    "# Data quality check\n",
    "print(\"Checking for missing values...\")\n",
    "missing_values = df.isnull().sum()\n",
    "print(missing_values)\n",
    "print(\"Checking for outliers...\")\n",
    "numeric_cols = df.select_dtypes(include=[np.number]).columns\n",
    "z_scores = np.abs(zscore(df[numeric_cols].dropna()))\n",
    "outliers = (z_scores > 3).sum(axis=0)\n",
    "print(outliers)"
   ]
  },
  {
   "cell_type": "code",
   "execution_count": null,
   "metadata": {},
   "outputs": [],
   "source": [
    "# Time Series Analysis\n",
    "time_cols = [\"GHI\", \"DNI\", \"DHI\", \"Tamb\"]\n",
    "time_cols = [col for col in time_cols if col in df.columns]\n",
    "if \"Date\" in df.columns:\n",
    "    df[\"Date\"] = pd.to_datetime(df[\"Date\"])\n",
    "    df.set_index(\"Date\", inplace=True)\n",
    "    fig, ax = plt.subplots(figsize=(10, 6))\n",
    "    df[time_cols].plot(ax=ax, title=f\"Time Series Analysis: {name}\")\n",
    "    save_plot(fig, f\"time_series_{name}.png\")\n",
    "    "
   ]
  },
  {
   "cell_type": "code",
   "execution_count": 14,
   "metadata": {},
   "outputs": [],
   "source": [
    "# Correlation Analysis\n",
    "if not df[numeric_cols].empty:\n",
    "    corr = df[numeric_cols].corr()\n",
    "    fig, ax = plt.subplots(figsize=(10, 8))\n",
    "    sns.heatmap(corr, annot=True, cmap=\"coolwarm\", ax=ax)\n",
    "    ax.set_title(f\"Correlation Matrix: {name}\")\n",
    "    save_plot(fig, f\"correlation_matrix_{name}.png\")"
   ]
  },
  {
   "cell_type": "code",
   "execution_count": 15,
   "metadata": {},
   "outputs": [],
   "source": [
    "# Wind Analysis\n",
    "if \"WS\" in df.columns and \"WD\" in df.columns:\n",
    "    fig, ax = plt.subplots(figsize=(8, 8))\n",
    "    sns.histplot(df[\"WS\"], kde=True, ax=ax)\n",
    "    ax.set_title(f\"Wind Speed Distribution: {name}\")\n",
    "    save_plot(fig, f\"wind_speed_distribution_{name}.png\")"
   ]
  },
  {
   "cell_type": "code",
   "execution_count": 16,
   "metadata": {},
   "outputs": [],
   "source": [
    "# Histograms\n",
    "fig, axes = plt.subplots(len(numeric_cols) // 3 + 1, 3, figsize=(15, 10))\n",
    "axes = axes.flatten()\n",
    "for i, col in enumerate(numeric_cols):\n",
    "    sns.histplot(df[col], kde=True, ax=axes[i])\n",
    "    axes[i].set_title(f\"Histogram: {col}\")\n",
    "save_plot(fig, f\"histograms_{name}.png\")"
   ]
  },
  {
   "cell_type": "code",
   "execution_count": 18,
   "metadata": {},
   "outputs": [],
   "source": [
    "# Bubble Chart\n",
    "bubble_vars = [\"GHI\", \"Tamb\", \"WS\", \"RH\"]\n",
    "bubble_vars = [col for col in bubble_vars if col in df.columns]\n",
    "if len(bubble_vars) >= 3:\n",
    "    fig, ax = plt.subplots(figsize=(10, 6))\n",
    "    sns.scatterplot(\n",
    "        x=bubble_vars[0],\n",
    "        y=bubble_vars[1],\n",
    "        size=bubble_vars[2],\n",
    "        hue=bubble_vars[2],\n",
    "        sizes=(40, 400),\n",
    "        data=df,\n",
    "        ax=ax\n",
    "    )\n",
    "    ax.set_title(f\"Bubble Chart: {name}\")\n",
    "    save_plot(fig, f\"bubble_chart_{name}.png\")"
   ]
  },
  {
   "cell_type": "code",
   "execution_count": null,
   "metadata": {},
   "outputs": [
    {
     "name": "stdout",
     "output_type": "stream",
     "text": [
      "Finished processing dataset: togo-dapaong_qc\n",
      "\n"
     ]
    }
   ],
   "source": [
    "# Data Cleaning\n",
    "if \"Comments\" in df.columns:\n",
    "    df.drop(columns=[\"Comments\"], inplace=True)\n",
    "\n",
    "# Forward fill missing values\n",
    "df.ffill(inplace=True)\n",
    "\n",
    "# Backward fill missing values\n",
    "df.bfill(inplace=True)\n",
    "\n",
    "# Save the cleaned dataset\n",
    "df.to_csv(os.path.join(processed_data_dir, f\"cleaned_{name}.csv\"), index=False)\n",
    "print(f\"Finished processing dataset: {name}\\n\")\n"
   ]
  }
 ],
 "metadata": {
  "kernelspec": {
   "display_name": ".venv",
   "language": "python",
   "name": "python3"
  },
  "language_info": {
   "codemirror_mode": {
    "name": "ipython",
    "version": 3
   },
   "file_extension": ".py",
   "mimetype": "text/x-python",
   "name": "python",
   "nbconvert_exporter": "python",
   "pygments_lexer": "ipython3",
   "version": "3.13.1"
  }
 },
 "nbformat": 4,
 "nbformat_minor": 2
}
